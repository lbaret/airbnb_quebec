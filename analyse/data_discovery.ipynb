{
 "cells": [
  {
   "cell_type": "code",
   "execution_count": null,
   "id": "changed-strain",
   "metadata": {},
   "outputs": [],
   "source": [
    "%cd .."
   ]
  },
  {
   "cell_type": "code",
   "execution_count": null,
   "id": "embedded-paragraph",
   "metadata": {},
   "outputs": [],
   "source": [
    "from os.path import join\n",
    "from config import *\n",
    "\n",
    "import pandas as pd\n",
    "import numpy as np\n",
    "\n",
    "import json"
   ]
  },
  {
   "cell_type": "markdown",
   "id": "typical-plastic",
   "metadata": {},
   "source": [
    "# Première ouverture des données\n",
    "\n",
    "Ici se trouve le code qui va nous permettre de mettre de l’ordre dans les fichiers et déterminer quel est le rôle de chacun :  \n",
    "- calendar_data.csv\n",
    "- listings_data.csv *vs.* listings.csv\n",
    "- reviews_data.csv *vs.* reviews.csv\n",
    "\n",
    "De cette première ouverture des données, nous cherchons également à nous dégager une potentielle problématique.  \n",
    "En effet, suivant les informations auxquelles nous avons accès, plusieurs styles de projets peuvent être envisageables, cette découverte consiste à élager le domaine des possibles."
   ]
  },
  {
   "cell_type": "code",
   "execution_count": null,
   "id": "joined-marker",
   "metadata": {},
   "outputs": [],
   "source": [
    "df_review_data = pd.read_csv(join(DATA_DIR, 'reviews_data.csv'))\n",
    "df_review_data"
   ]
  },
  {
   "cell_type": "code",
   "execution_count": null,
   "id": "excellent-qualification",
   "metadata": {},
   "outputs": [],
   "source": [
    "df_review = pd.read_csv(join(DATA_DIR, 'reviews.csv'))\n",
    "df_review"
   ]
  },
  {
   "cell_type": "code",
   "execution_count": null,
   "id": "bottom-chest",
   "metadata": {},
   "outputs": [],
   "source": [
    "df_listings_data = pd.read_csv(join(DATA_DIR, 'listings_data.csv'))\n",
    "df_listings_data"
   ]
  },
  {
   "cell_type": "code",
   "execution_count": null,
   "id": "technical-feeling",
   "metadata": {},
   "outputs": [],
   "source": [
    "df_listings = pd.read_csv(join(DATA_DIR, 'listings.csv'))\n",
    "df_listings"
   ]
  },
  {
   "cell_type": "code",
   "execution_count": null,
   "id": "disciplinary-macro",
   "metadata": {},
   "outputs": [],
   "source": [
    "df_calendar = pd.read_csv(join(DATA_DIR, 'calendar_data.csv'))\n",
    "df_calendar"
   ]
  },
  {
   "cell_type": "code",
   "execution_count": null,
   "id": "guided-grant",
   "metadata": {},
   "outputs": [],
   "source": [
    "df_neighbourhoods = pd.read_csv(join(DATA_DIR, 'neighbourhoods.csv'))\n",
    "df_neighbourhoods"
   ]
  },
  {
   "cell_type": "markdown",
   "id": "verbal-appeal",
   "metadata": {},
   "source": [
    "Avec cette première ouverture des données, nous avons une petite idée de comment connecter toutes les informations en un seul *DataFrame* afin de centraliser toute la données en un seul endroit. Toutefoirs, on excluera de ce *DataFrame* les informations concernant les tables des **reviews**."
   ]
  },
  {
   "cell_type": "markdown",
   "id": "starting-friday",
   "metadata": {},
   "source": [
    "## Découverte de *listings_data*\n",
    "\n",
    "Cette table concentre la majorité des informations concernant les logements à louer sur Québec et ses alentours."
   ]
  },
  {
   "cell_type": "code",
   "execution_count": null,
   "id": "trained-universe",
   "metadata": {},
   "outputs": [],
   "source": [
    "df_listings.columns"
   ]
  },
  {
   "cell_type": "code",
   "execution_count": null,
   "id": "northern-midnight",
   "metadata": {
    "scrolled": false
   },
   "outputs": [],
   "source": [
    "df_listings_data.columns"
   ]
  },
  {
   "cell_type": "code",
   "execution_count": null,
   "id": "exact-tsunami",
   "metadata": {},
   "outputs": [],
   "source": [
    "df_listings_data['review_scores_rating']"
   ]
  },
  {
   "cell_type": "code",
   "execution_count": null,
   "id": "loved-sharing",
   "metadata": {},
   "outputs": [],
   "source": [
    "df_listings_data['review_scores_cleanliness'].isna().sum()"
   ]
  },
  {
   "cell_type": "code",
   "execution_count": null,
   "id": "significant-switch",
   "metadata": {},
   "outputs": [],
   "source": [
    "len(df_listings_data)"
   ]
  },
  {
   "cell_type": "code",
   "execution_count": null,
   "id": "killing-olympus",
   "metadata": {},
   "outputs": [],
   "source": [
    "len(df_calendar['listing_id'].unique())"
   ]
  },
  {
   "cell_type": "markdown",
   "id": "engaging-jerusalem",
   "metadata": {},
   "source": [
    "# Le fichier Geojson"
   ]
  },
  {
   "cell_type": "code",
   "execution_count": null,
   "id": "lonely-distribution",
   "metadata": {},
   "outputs": [],
   "source": [
    "with open(join(DATA_DIR, 'neighbourhoods.geojson'), mode='r') as f:\n",
    "    geo = json.load(f)"
   ]
  },
  {
   "cell_type": "code",
   "execution_count": null,
   "id": "stopped-surface",
   "metadata": {},
   "outputs": [],
   "source": [
    "len(geo['features'])"
   ]
  },
  {
   "cell_type": "markdown",
   "id": "sixth-magazine",
   "metadata": {},
   "source": [
    "$\\rightarrow$ Le fichier *geojson* contient les 35 quartiers de Québec que l’on retrouve dans le *DataFrame* : df_neighbourhoods"
   ]
  },
  {
   "cell_type": "markdown",
   "id": "exciting-circular",
   "metadata": {},
   "source": [
    "Le *DataFrame* concernant le calendrier liste chacun des jours l’occupation d’un logement à louer sur Airbnb.\n",
    "\n",
    "$\\Rightarrow$ Maintenant que nous avons découvert les données et les colonnes, nous pouvons passer à une **EDA** un peu plus élaborée."
   ]
  }
 ],
 "metadata": {
  "kernelspec": {
   "display_name": "Python 3",
   "language": "python",
   "name": "python3"
  },
  "language_info": {
   "codemirror_mode": {
    "name": "ipython",
    "version": 3
   },
   "file_extension": ".py",
   "mimetype": "text/x-python",
   "name": "python",
   "nbconvert_exporter": "python",
   "pygments_lexer": "ipython3",
   "version": "3.8.8"
  }
 },
 "nbformat": 4,
 "nbformat_minor": 5
}
