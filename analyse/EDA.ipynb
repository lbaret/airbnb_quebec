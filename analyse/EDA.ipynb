{
 "cells": [
  {
   "cell_type": "code",
   "execution_count": null,
   "id": "christian-summer",
   "metadata": {},
   "outputs": [],
   "source": [
    "%cd .."
   ]
  },
  {
   "cell_type": "code",
   "execution_count": null,
   "id": "announced-album",
   "metadata": {},
   "outputs": [],
   "source": [
    "from os.path import join\n",
    "from config import *\n",
    "\n",
    "import pandas as pd\n",
    "import numpy as np\n",
    "\n",
    "import json\n",
    "\n",
    "import plotly.express as px\n",
    "from plotly.offline import plot"
   ]
  },
  {
   "cell_type": "markdown",
   "id": "improving-default",
   "metadata": {},
   "source": [
    "# Chargement des données\n",
    "\n",
    "Pour l’**EDA**, nous nous concentrerons sur les données complètes, puisqu’il existe les mêmes données utilisées pour la visualisation.  \n",
    "Le but dans notre cas étant de faire notre propre visualisation."
   ]
  },
  {
   "cell_type": "code",
   "execution_count": null,
   "id": "covered-straight",
   "metadata": {},
   "outputs": [],
   "source": [
    "df_listings = pd.read_csv(join(DATA_DIR, 'listings_data.csv'))\n",
    "\n",
    "df_neighbourhoods = pd.read_csv(join(DATA_DIR, 'neighbourhoods.csv'))\n",
    "with open(join(DATA_DIR, 'neighbourhoods.geojson'), mode='r') as f:\n",
    "    geo = json.load(f)"
   ]
  },
  {
   "cell_type": "markdown",
   "id": "weekly-factory",
   "metadata": {},
   "source": [
    "# Exploratory Data Analysis\n",
    "\n",
    "Dans ce *notebook*, nous allons pousser l’exploration et l’analyse des données plus loin. Nous visualiserons les données, les liens qu’elles peuvent avoir entre elles, mais aussi dégager des informations qui ne sont pas visibles au travers des chiffres."
   ]
  },
  {
   "cell_type": "markdown",
   "id": "better-naples",
   "metadata": {},
   "source": [
    "# Visualisation de la carte des locations Airbnb de Québec\n",
    "\n",
    "Ce petit projet me permet également de découvrir la librairie graphique : *plotly*."
   ]
  },
  {
   "cell_type": "code",
   "execution_count": null,
   "id": "basic-license",
   "metadata": {},
   "outputs": [],
   "source": [
    "# TODO : Afficher des informations sympathiques sur les locations.\n",
    "fig = px.scatter_mapbox(df_listings, lat=\"latitude\", lon=\"longitude\", hover_name=\"name\",\n",
    "                  color_continuous_scale=px.colors.cyclical.IceFire, size_max=15, zoom=10,\n",
    "                  mapbox_style=\"carto-positron\")\n",
    "plot(fig)"
   ]
  },
  {
   "cell_type": "code",
   "execution_count": null,
   "id": "eligible-liberty",
   "metadata": {},
   "outputs": [],
   "source": [
    "fig = px.choropleth_mapbox(df_neighbourhoods, geojson=geo,\n",
    "                           locations=\"neighbourhood\", featureidkey=\"properties.neighbourhood\",\n",
    "                           mapbox_style=\"carto-positron\", zoom=9)\n",
    "plot(fig)"
   ]
  },
  {
   "cell_type": "code",
   "execution_count": null,
   "id": "liberal-maryland",
   "metadata": {},
   "outputs": [],
   "source": [
    "df_neighbourhoods"
   ]
  },
  {
   "cell_type": "code",
   "execution_count": null,
   "id": "progressive-botswana",
   "metadata": {},
   "outputs": [],
   "source": [
    "geo['features'][0]"
   ]
  },
  {
   "cell_type": "code",
   "execution_count": null,
   "id": "bored-amsterdam",
   "metadata": {},
   "outputs": [],
   "source": []
  },
  {
   "cell_type": "code",
   "execution_count": null,
   "id": "blond-anxiety",
   "metadata": {},
   "outputs": [],
   "source": []
  }
 ],
 "metadata": {
  "kernelspec": {
   "display_name": "Python 3",
   "language": "python",
   "name": "python3"
  },
  "language_info": {
   "codemirror_mode": {
    "name": "ipython",
    "version": 3
   },
   "file_extension": ".py",
   "mimetype": "text/x-python",
   "name": "python",
   "nbconvert_exporter": "python",
   "pygments_lexer": "ipython3",
   "version": "3.8.8"
  }
 },
 "nbformat": 4,
 "nbformat_minor": 5
}
